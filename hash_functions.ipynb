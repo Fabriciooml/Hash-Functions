{
  "nbformat": 4,
  "nbformat_minor": 0,
  "metadata": {
    "colab": {
      "provenance": [],
      "authorship_tag": "ABX9TyNZZe0LnlrBUALqpBBUKxvW",
      "include_colab_link": true
    },
    "kernelspec": {
      "name": "python3",
      "display_name": "Python 3"
    },
    "language_info": {
      "name": "python"
    }
  },
  "cells": [
    {
      "cell_type": "markdown",
      "metadata": {
        "id": "view-in-github",
        "colab_type": "text"
      },
      "source": [
        "<a href=\"https://colab.research.google.com/github/Fabriciooml/Hash-Functions/blob/main/hash_functions.ipynb\" target=\"_parent\"><img src=\"https://colab.research.google.com/assets/colab-badge.svg\" alt=\"Open In Colab\"/></a>"
      ]
    },
    {
      "cell_type": "code",
      "execution_count": 1,
      "metadata": {
        "cellView": "form",
        "id": "TvVrfJks2FqU"
      },
      "outputs": [],
      "source": [
        "#@markdown ##Defina o tamanho da tabela hash (recomendável ser um [número primo](https://en.wikipedia.org/wiki/List_of_prime_numbers))\n",
        "size = 7 #@param {type:\"integer\"}\n",
        "#@markdown ##Defina o incremento fixo\n",
        "fixed_increment = 5 #@param {type:\"integer\"}"
      ]
    },
    {
      "cell_type": "code",
      "source": [
        "#@markdown ##Classe da tabela hash\n",
        "from typing import Dict, List, Union\n",
        "\n",
        "class hash_table:\n",
        "\n",
        "  def __init__(self, size: int, fixed_increment: int) -> None:\n",
        "    self.size = size\n",
        "    self.length = 0\n",
        "    self.increment = fixed_increment\n",
        "    self.table: List[Union[None, Dict[int, int]]] = [None] * size\n",
        "\n",
        "  def __str__(self) -> str:\n",
        "    return f\"{self.table}\"\n",
        "\n",
        "  def hash(self, key: int) -> int:\n",
        "    return key % self.size\n",
        "\n",
        "  def is_full(self) -> bool:\n",
        "    if self.length == self.size:\n",
        "      return True\n",
        "    return False\n",
        "\n",
        "  def is_occupied(self, index: int) -> bool:\n",
        "    if self.table[index] is not None:\n",
        "      return True\n",
        "    return False\n",
        "\n",
        "  def is_marked_available(self, index: int) -> bool:\n",
        "    if self.is_occupied(index):\n",
        "      if list(self.table[index].keys())[0] == \"A\":\n",
        "        return True\n",
        "    return False\n",
        "\n",
        "  def insert(self, key: int, value: int) -> None:\n",
        "    index = self.hash(key)\n",
        "    if not self.is_full():\n",
        "      while self.is_occupied(index) and not self.is_marked_available(index):\n",
        "        print(f\"Collision on index {index} using Linear Probing fixed increment unidirecional\")\n",
        "        index = self.hash(index + self.increment)\n",
        "\n",
        "      self.table[index] = {key: value}\n",
        "      print(f\"inserted key {key} on index {index}\")\n",
        "      self.length += 1\n",
        "    else:\n",
        "      raise IndexError(\"Table is full\")\n",
        "\n",
        "  def find_index(self, key: int) -> int:\n",
        "    index = self.hash(key)\n",
        "    while self.is_occupied(index):\n",
        "      if key in self.table[index].keys():\n",
        "        return index\n",
        "      index = self.hash(index + self.increment)\n",
        "    raise KeyError(\"Key not found\")\n",
        "\n",
        "  def search(self, key:int) -> int:\n",
        "    index = self.find_index(key)\n",
        "    return self.table[index][key]\n",
        "\n",
        "  def delete_from_index(self, old_index:int) -> None:\n",
        "    new_index = self.hash(old_index + self.increment)\n",
        "\n",
        "    while self.is_occupied(new_index):\n",
        "      new_key = list(self.table[new_index].keys())[0]\n",
        "      new_value = self.table[new_index][new_key]\n",
        "\n",
        "      if new_key != \"A\":\n",
        "        if self.hash(new_key) != new_index:\n",
        "          self.table[old_index] = None\n",
        "          self.insert(new_key, new_value)\n",
        "          self.table[new_index] = None\n",
        "          old_index = new_index\n",
        "          self.length -= 1\n",
        "\n",
        "      new_index = self.hash(new_index + self.increment)\n",
        "\n",
        "    self.table[old_index] = None\n",
        "\n",
        "  def set_as_available(self, index: int) -> None:\n",
        "    if self.is_occupied(index):\n",
        "      self.table[index] = {\"A\": \"position available\"}\n",
        "      self.length -= 1\n",
        "\n",
        "  def delete(self, key:int, use_available:bool = False) -> None:\n",
        "    old_index = self.find_index(key)\n",
        "    if not use_available:\n",
        "      self.delete_from_index(old_index)\n",
        "    else:\n",
        "      self.set_as_available(old_index)\n",
        "\n",
        "  def delete_available(self):\n",
        "    for index in range(self.size):\n",
        "      if self.is_occupied(index):\n",
        "        if list(self.table[index].keys())[0] == \"A\":\n",
        "          self.delete_from_index(index)"
      ],
      "metadata": {
        "cellView": "form",
        "id": "GLdhuIxI4kiG"
      },
      "execution_count": 5,
      "outputs": []
    },
    {
      "cell_type": "code",
      "source": [
        "#@markdown ##Adicionando elementos na tabela hash\n",
        "keys = \"0, 1, 2, 3, 7, 14\" #@param{type: \"string\"}\n",
        "values = \"4, 5, 6, 7, 10, 100\" #@param{type: \"string\"}\n",
        "keys_list = [int(x) for x in keys.strip().split(\",\")]\n",
        "values_list = [int(x) for x in values.strip().split(\",\")]\n",
        "\n",
        "table = hash_table(size, fixed_increment)\n",
        "\n",
        "for i in range(len(keys_list)):\n",
        "  table.insert(keys_list[i], values_list[i])\n",
        "\n",
        "print(table)"
      ],
      "metadata": {
        "colab": {
          "base_uri": "https://localhost:8080/"
        },
        "cellView": "form",
        "id": "ihGX3U-rAkjj",
        "outputId": "5f98b095-1c4b-4e7b-f1bb-e7551c1b8916"
      },
      "execution_count": 7,
      "outputs": [
        {
          "output_type": "stream",
          "name": "stdout",
          "text": [
            "inserted key 0 on index 0\n",
            "inserted key 1 on index 1\n",
            "inserted key 2 on index 2\n",
            "inserted key 3 on index 3\n",
            "Collision on index 0 using Linear Probing fixed increment unidirecional\n",
            "inserted key 7 on index 5\n",
            "Collision on index 0 using Linear Probing fixed increment unidirecional\n",
            "Collision on index 5 using Linear Probing fixed increment unidirecional\n",
            "Collision on index 3 using Linear Probing fixed increment unidirecional\n",
            "Collision on index 1 using Linear Probing fixed increment unidirecional\n",
            "inserted key 14 on index 6\n",
            "[{0: 4}, {1: 5}, {2: 6}, {3: 7}, None, {7: 10}, {14: 100}]\n"
          ]
        }
      ]
    },
    {
      "cell_type": "code",
      "source": [
        "#@markdown ## Fazendo busca\n",
        "\n",
        "key = 0 #@param{type:\"integer\"}\n",
        "print(f\"O valor da key {key} é {table.search(key)}\")"
      ],
      "metadata": {
        "colab": {
          "base_uri": "https://localhost:8080/"
        },
        "cellView": "form",
        "id": "yeixJUFMBegM",
        "outputId": "7f7b5deb-bfa4-4e42-8092-ec97817f5dbc"
      },
      "execution_count": 8,
      "outputs": [
        {
          "output_type": "stream",
          "name": "stdout",
          "text": [
            "O valor da key 0 é 4\n"
          ]
        }
      ]
    },
    {
      "cell_type": "code",
      "source": [
        "#@markdown ## Deletando elemento\n",
        "\n",
        "key = 0 #@param{type:\"integer\"}\n",
        "table.delete(key)\n",
        "print(table)"
      ],
      "metadata": {
        "colab": {
          "base_uri": "https://localhost:8080/"
        },
        "cellView": "form",
        "id": "0EgHqzrFOqlo",
        "outputId": "d63c89c5-93c5-44a6-e67f-3db81f9acf8f"
      },
      "execution_count": 9,
      "outputs": [
        {
          "output_type": "stream",
          "name": "stdout",
          "text": [
            "inserted key 7 on index 0\n",
            "Collision on index 0 using Linear Probing fixed increment unidirecional\n",
            "inserted key 14 on index 5\n",
            "[{7: 10}, {1: 5}, {2: 6}, {3: 7}, None, {14: 100}, None]\n"
          ]
        }
      ]
    },
    {
      "cell_type": "code",
      "source": [
        "#@markdown ## Deletando elemento usando tag A\n",
        "\n",
        "key = 7 #@param{type:\"integer\"}\n",
        "table.delete(key, use_available=True)\n",
        "print(table)"
      ],
      "metadata": {
        "colab": {
          "base_uri": "https://localhost:8080/"
        },
        "cellView": "form",
        "id": "k9xSIspvO7Gq",
        "outputId": "38aebfb2-c475-4b74-e63a-f1b25cfc13a4"
      },
      "execution_count": 12,
      "outputs": [
        {
          "output_type": "stream",
          "name": "stdout",
          "text": [
            "[{'A': 'position available'}, {'A': 'position available'}, {2: 6}, {3: 7}, None, {14: 100}, None]\n"
          ]
        }
      ]
    },
    {
      "cell_type": "code",
      "source": [
        "#@markdown ## Inserindo elemento em local com tag A\n",
        "\n",
        "key = 7 #@param{type:\"integer\"}\n",
        "value = 99 #@param{type:\"integer\"}\n",
        "table.insert(key, value)\n",
        "print(table)"
      ],
      "metadata": {
        "colab": {
          "base_uri": "https://localhost:8080/"
        },
        "cellView": "form",
        "id": "3_lv3XgHPScc",
        "outputId": "b190748b-86f2-447f-8d94-7dd7e607b352"
      },
      "execution_count": 13,
      "outputs": [
        {
          "output_type": "stream",
          "name": "stdout",
          "text": [
            "inserted key 7 on index 0\n",
            "[{7: 99}, {'A': 'position available'}, {2: 6}, {3: 7}, None, {14: 100}, None]\n"
          ]
        }
      ]
    },
    {
      "cell_type": "code",
      "source": [
        "#@markdown ## Apaga todos os elementos marcados com tag A\n",
        "\n",
        "table.delete_available()\n",
        "print(table)"
      ],
      "metadata": {
        "colab": {
          "base_uri": "https://localhost:8080/"
        },
        "cellView": "form",
        "id": "HZZWP-bKPr1P",
        "outputId": "428c6bcf-9d67-42a0-8388-b2606242f8f5"
      },
      "execution_count": 14,
      "outputs": [
        {
          "output_type": "stream",
          "name": "stdout",
          "text": [
            "[{7: 99}, None, {2: 6}, {3: 7}, None, {14: 100}, None]\n"
          ]
        }
      ]
    }
  ]
}